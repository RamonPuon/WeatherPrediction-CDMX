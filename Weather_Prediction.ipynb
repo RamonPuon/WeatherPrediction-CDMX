{
 "cells": [
  {
   "cell_type": "code",
   "execution_count": 3,
   "metadata": {},
   "outputs": [],
   "source": [
    "import pandas as pd\n",
    "import numpy as np\n",
    "import matplotlib.pyplot as plt\n",
    "import seaborn as sns\n"
   ]
  },
  {
   "cell_type": "code",
   "execution_count": 4,
   "metadata": {},
   "outputs": [
    {
     "data": {
      "text/html": [
       "<div>\n",
       "<style scoped>\n",
       "    .dataframe tbody tr th:only-of-type {\n",
       "        vertical-align: middle;\n",
       "    }\n",
       "\n",
       "    .dataframe tbody tr th {\n",
       "        vertical-align: top;\n",
       "    }\n",
       "\n",
       "    .dataframe thead th {\n",
       "        text-align: right;\n",
       "    }\n",
       "</style>\n",
       "<table border=\"1\" class=\"dataframe\">\n",
       "  <thead>\n",
       "    <tr style=\"text-align: right;\">\n",
       "      <th></th>\n",
       "      <th>STATION</th>\n",
       "      <th>NAME</th>\n",
       "      <th>LATITUDE</th>\n",
       "      <th>LONGITUDE</th>\n",
       "      <th>ELEVATION</th>\n",
       "      <th>PRCP</th>\n",
       "      <th>PRCP_ATTRIBUTES</th>\n",
       "      <th>SNWD</th>\n",
       "      <th>SNWD_ATTRIBUTES</th>\n",
       "      <th>TAVG</th>\n",
       "      <th>TAVG_ATTRIBUTES</th>\n",
       "      <th>TMAX</th>\n",
       "      <th>TMAX_ATTRIBUTES</th>\n",
       "      <th>TMIN</th>\n",
       "      <th>TMIN_ATTRIBUTES</th>\n",
       "    </tr>\n",
       "    <tr>\n",
       "      <th>DATE</th>\n",
       "      <th></th>\n",
       "      <th></th>\n",
       "      <th></th>\n",
       "      <th></th>\n",
       "      <th></th>\n",
       "      <th></th>\n",
       "      <th></th>\n",
       "      <th></th>\n",
       "      <th></th>\n",
       "      <th></th>\n",
       "      <th></th>\n",
       "      <th></th>\n",
       "      <th></th>\n",
       "      <th></th>\n",
       "      <th></th>\n",
       "    </tr>\n",
       "  </thead>\n",
       "  <tbody>\n",
       "    <tr>\n",
       "      <th>1960-01-01</th>\n",
       "      <td>MXN00007202</td>\n",
       "      <td>TUXTLA GUTIERREZ DGE, MX</td>\n",
       "      <td>16.75</td>\n",
       "      <td>-93.1167</td>\n",
       "      <td>542.8</td>\n",
       "      <td>0.0</td>\n",
       "      <td>,,m</td>\n",
       "      <td>NaN</td>\n",
       "      <td>NaN</td>\n",
       "      <td>NaN</td>\n",
       "      <td>NaN</td>\n",
       "      <td>91.0</td>\n",
       "      <td>,,m</td>\n",
       "      <td>54.0</td>\n",
       "      <td>,,m</td>\n",
       "    </tr>\n",
       "    <tr>\n",
       "      <th>1960-01-02</th>\n",
       "      <td>MXN00007202</td>\n",
       "      <td>TUXTLA GUTIERREZ DGE, MX</td>\n",
       "      <td>16.75</td>\n",
       "      <td>-93.1167</td>\n",
       "      <td>542.8</td>\n",
       "      <td>0.0</td>\n",
       "      <td>,,m</td>\n",
       "      <td>NaN</td>\n",
       "      <td>NaN</td>\n",
       "      <td>NaN</td>\n",
       "      <td>NaN</td>\n",
       "      <td>89.0</td>\n",
       "      <td>,,m</td>\n",
       "      <td>54.0</td>\n",
       "      <td>,,m</td>\n",
       "    </tr>\n",
       "    <tr>\n",
       "      <th>1960-01-03</th>\n",
       "      <td>MXN00007202</td>\n",
       "      <td>TUXTLA GUTIERREZ DGE, MX</td>\n",
       "      <td>16.75</td>\n",
       "      <td>-93.1167</td>\n",
       "      <td>542.8</td>\n",
       "      <td>0.0</td>\n",
       "      <td>,,m</td>\n",
       "      <td>NaN</td>\n",
       "      <td>NaN</td>\n",
       "      <td>NaN</td>\n",
       "      <td>NaN</td>\n",
       "      <td>83.0</td>\n",
       "      <td>,,m</td>\n",
       "      <td>54.0</td>\n",
       "      <td>,,m</td>\n",
       "    </tr>\n",
       "    <tr>\n",
       "      <th>1960-01-04</th>\n",
       "      <td>MXN00007202</td>\n",
       "      <td>TUXTLA GUTIERREZ DGE, MX</td>\n",
       "      <td>16.75</td>\n",
       "      <td>-93.1167</td>\n",
       "      <td>542.8</td>\n",
       "      <td>0.0</td>\n",
       "      <td>,,m</td>\n",
       "      <td>NaN</td>\n",
       "      <td>NaN</td>\n",
       "      <td>NaN</td>\n",
       "      <td>NaN</td>\n",
       "      <td>90.0</td>\n",
       "      <td>,,m</td>\n",
       "      <td>59.0</td>\n",
       "      <td>,,m</td>\n",
       "    </tr>\n",
       "    <tr>\n",
       "      <th>1960-01-05</th>\n",
       "      <td>MXN00007202</td>\n",
       "      <td>TUXTLA GUTIERREZ DGE, MX</td>\n",
       "      <td>16.75</td>\n",
       "      <td>-93.1167</td>\n",
       "      <td>542.8</td>\n",
       "      <td>0.0</td>\n",
       "      <td>,,m</td>\n",
       "      <td>NaN</td>\n",
       "      <td>NaN</td>\n",
       "      <td>NaN</td>\n",
       "      <td>NaN</td>\n",
       "      <td>88.0</td>\n",
       "      <td>,,m</td>\n",
       "      <td>58.0</td>\n",
       "      <td>,,m</td>\n",
       "    </tr>\n",
       "    <tr>\n",
       "      <th>...</th>\n",
       "      <td>...</td>\n",
       "      <td>...</td>\n",
       "      <td>...</td>\n",
       "      <td>...</td>\n",
       "      <td>...</td>\n",
       "      <td>...</td>\n",
       "      <td>...</td>\n",
       "      <td>...</td>\n",
       "      <td>...</td>\n",
       "      <td>...</td>\n",
       "      <td>...</td>\n",
       "      <td>...</td>\n",
       "      <td>...</td>\n",
       "      <td>...</td>\n",
       "      <td>...</td>\n",
       "    </tr>\n",
       "    <tr>\n",
       "      <th>2010-11-25</th>\n",
       "      <td>MXM00076680</td>\n",
       "      <td>MEXICO CITY, MX</td>\n",
       "      <td>19.40</td>\n",
       "      <td>-99.1830</td>\n",
       "      <td>2303.0</td>\n",
       "      <td>0.0</td>\n",
       "      <td>,,S</td>\n",
       "      <td>NaN</td>\n",
       "      <td>NaN</td>\n",
       "      <td>63.0</td>\n",
       "      <td>H,,S</td>\n",
       "      <td>78.0</td>\n",
       "      <td>,,S</td>\n",
       "      <td>48.0</td>\n",
       "      <td>,,S</td>\n",
       "    </tr>\n",
       "    <tr>\n",
       "      <th>2010-11-26</th>\n",
       "      <td>MXM00076680</td>\n",
       "      <td>MEXICO CITY, MX</td>\n",
       "      <td>19.40</td>\n",
       "      <td>-99.1830</td>\n",
       "      <td>2303.0</td>\n",
       "      <td>0.0</td>\n",
       "      <td>,,S</td>\n",
       "      <td>NaN</td>\n",
       "      <td>NaN</td>\n",
       "      <td>64.0</td>\n",
       "      <td>H,,S</td>\n",
       "      <td>78.0</td>\n",
       "      <td>,,S</td>\n",
       "      <td>48.0</td>\n",
       "      <td>,,S</td>\n",
       "    </tr>\n",
       "    <tr>\n",
       "      <th>2010-11-27</th>\n",
       "      <td>MXM00076680</td>\n",
       "      <td>MEXICO CITY, MX</td>\n",
       "      <td>19.40</td>\n",
       "      <td>-99.1830</td>\n",
       "      <td>2303.0</td>\n",
       "      <td>0.0</td>\n",
       "      <td>,,S</td>\n",
       "      <td>NaN</td>\n",
       "      <td>NaN</td>\n",
       "      <td>59.0</td>\n",
       "      <td>H,,S</td>\n",
       "      <td>76.0</td>\n",
       "      <td>,,S</td>\n",
       "      <td>52.0</td>\n",
       "      <td>,,S</td>\n",
       "    </tr>\n",
       "    <tr>\n",
       "      <th>2010-11-29</th>\n",
       "      <td>MXM00076680</td>\n",
       "      <td>MEXICO CITY, MX</td>\n",
       "      <td>19.40</td>\n",
       "      <td>-99.1830</td>\n",
       "      <td>2303.0</td>\n",
       "      <td>0.0</td>\n",
       "      <td>,,S</td>\n",
       "      <td>NaN</td>\n",
       "      <td>NaN</td>\n",
       "      <td>63.0</td>\n",
       "      <td>H,,S</td>\n",
       "      <td>NaN</td>\n",
       "      <td>NaN</td>\n",
       "      <td>NaN</td>\n",
       "      <td>NaN</td>\n",
       "    </tr>\n",
       "    <tr>\n",
       "      <th>2010-11-30</th>\n",
       "      <td>MXM00076680</td>\n",
       "      <td>MEXICO CITY, MX</td>\n",
       "      <td>19.40</td>\n",
       "      <td>-99.1830</td>\n",
       "      <td>2303.0</td>\n",
       "      <td>0.0</td>\n",
       "      <td>,,S</td>\n",
       "      <td>NaN</td>\n",
       "      <td>NaN</td>\n",
       "      <td>63.0</td>\n",
       "      <td>H,,S</td>\n",
       "      <td>77.0</td>\n",
       "      <td>,,S</td>\n",
       "      <td>51.0</td>\n",
       "      <td>,,S</td>\n",
       "    </tr>\n",
       "  </tbody>\n",
       "</table>\n",
       "<p>25433 rows × 15 columns</p>\n",
       "</div>"
      ],
      "text/plain": [
       "                STATION                      NAME  LATITUDE  LONGITUDE  \\\n",
       "DATE                                                                     \n",
       "1960-01-01  MXN00007202  TUXTLA GUTIERREZ DGE, MX     16.75   -93.1167   \n",
       "1960-01-02  MXN00007202  TUXTLA GUTIERREZ DGE, MX     16.75   -93.1167   \n",
       "1960-01-03  MXN00007202  TUXTLA GUTIERREZ DGE, MX     16.75   -93.1167   \n",
       "1960-01-04  MXN00007202  TUXTLA GUTIERREZ DGE, MX     16.75   -93.1167   \n",
       "1960-01-05  MXN00007202  TUXTLA GUTIERREZ DGE, MX     16.75   -93.1167   \n",
       "...                 ...                       ...       ...        ...   \n",
       "2010-11-25  MXM00076680           MEXICO CITY, MX     19.40   -99.1830   \n",
       "2010-11-26  MXM00076680           MEXICO CITY, MX     19.40   -99.1830   \n",
       "2010-11-27  MXM00076680           MEXICO CITY, MX     19.40   -99.1830   \n",
       "2010-11-29  MXM00076680           MEXICO CITY, MX     19.40   -99.1830   \n",
       "2010-11-30  MXM00076680           MEXICO CITY, MX     19.40   -99.1830   \n",
       "\n",
       "            ELEVATION  PRCP PRCP_ATTRIBUTES  SNWD SNWD_ATTRIBUTES  TAVG  \\\n",
       "DATE                                                                      \n",
       "1960-01-01      542.8   0.0             ,,m   NaN             NaN   NaN   \n",
       "1960-01-02      542.8   0.0             ,,m   NaN             NaN   NaN   \n",
       "1960-01-03      542.8   0.0             ,,m   NaN             NaN   NaN   \n",
       "1960-01-04      542.8   0.0             ,,m   NaN             NaN   NaN   \n",
       "1960-01-05      542.8   0.0             ,,m   NaN             NaN   NaN   \n",
       "...               ...   ...             ...   ...             ...   ...   \n",
       "2010-11-25     2303.0   0.0             ,,S   NaN             NaN  63.0   \n",
       "2010-11-26     2303.0   0.0             ,,S   NaN             NaN  64.0   \n",
       "2010-11-27     2303.0   0.0             ,,S   NaN             NaN  59.0   \n",
       "2010-11-29     2303.0   0.0             ,,S   NaN             NaN  63.0   \n",
       "2010-11-30     2303.0   0.0             ,,S   NaN             NaN  63.0   \n",
       "\n",
       "           TAVG_ATTRIBUTES  TMAX TMAX_ATTRIBUTES  TMIN TMIN_ATTRIBUTES  \n",
       "DATE                                                                    \n",
       "1960-01-01             NaN  91.0             ,,m  54.0             ,,m  \n",
       "1960-01-02             NaN  89.0             ,,m  54.0             ,,m  \n",
       "1960-01-03             NaN  83.0             ,,m  54.0             ,,m  \n",
       "1960-01-04             NaN  90.0             ,,m  59.0             ,,m  \n",
       "1960-01-05             NaN  88.0             ,,m  58.0             ,,m  \n",
       "...                    ...   ...             ...   ...             ...  \n",
       "2010-11-25            H,,S  78.0             ,,S  48.0             ,,S  \n",
       "2010-11-26            H,,S  78.0             ,,S  48.0             ,,S  \n",
       "2010-11-27            H,,S  76.0             ,,S  52.0             ,,S  \n",
       "2010-11-29            H,,S   NaN             NaN   NaN             NaN  \n",
       "2010-11-30            H,,S  77.0             ,,S  51.0             ,,S  \n",
       "\n",
       "[25433 rows x 15 columns]"
      ]
     },
     "execution_count": 4,
     "metadata": {},
     "output_type": "execute_result"
    }
   ],
   "source": [
    "weather = pd.read_csv(\"./data/weather.csv\", index_col=\"DATE\")\n",
    "weather"
   ]
  },
  {
   "cell_type": "code",
   "execution_count": 5,
   "metadata": {},
   "outputs": [
    {
     "data": {
      "text/plain": [
       "TUXTLA GUTIERREZ DGE, MX    17706\n",
       "MEXICO CITY, MX              7727\n",
       "Name: NAME, dtype: int64"
      ]
     },
     "execution_count": 5,
     "metadata": {},
     "output_type": "execute_result"
    }
   ],
   "source": [
    "weather['NAME'].value_counts()"
   ]
  },
  {
   "cell_type": "code",
   "execution_count": 6,
   "metadata": {},
   "outputs": [],
   "source": [
    "weather_CDMX = weather[weather['NAME'] == 'MEXICO CITY, MX'].copy()"
   ]
  },
  {
   "cell_type": "code",
   "execution_count": 7,
   "metadata": {},
   "outputs": [
    {
     "data": {
      "text/html": [
       "<div>\n",
       "<style scoped>\n",
       "    .dataframe tbody tr th:only-of-type {\n",
       "        vertical-align: middle;\n",
       "    }\n",
       "\n",
       "    .dataframe tbody tr th {\n",
       "        vertical-align: top;\n",
       "    }\n",
       "\n",
       "    .dataframe thead th {\n",
       "        text-align: right;\n",
       "    }\n",
       "</style>\n",
       "<table border=\"1\" class=\"dataframe\">\n",
       "  <thead>\n",
       "    <tr style=\"text-align: right;\">\n",
       "      <th></th>\n",
       "      <th>STATION</th>\n",
       "      <th>NAME</th>\n",
       "      <th>LATITUDE</th>\n",
       "      <th>LONGITUDE</th>\n",
       "      <th>ELEVATION</th>\n",
       "      <th>PRCP</th>\n",
       "      <th>PRCP_ATTRIBUTES</th>\n",
       "      <th>SNWD</th>\n",
       "      <th>SNWD_ATTRIBUTES</th>\n",
       "      <th>TAVG</th>\n",
       "      <th>TAVG_ATTRIBUTES</th>\n",
       "      <th>TMAX</th>\n",
       "      <th>TMAX_ATTRIBUTES</th>\n",
       "      <th>TMIN</th>\n",
       "      <th>TMIN_ATTRIBUTES</th>\n",
       "    </tr>\n",
       "    <tr>\n",
       "      <th>DATE</th>\n",
       "      <th></th>\n",
       "      <th></th>\n",
       "      <th></th>\n",
       "      <th></th>\n",
       "      <th></th>\n",
       "      <th></th>\n",
       "      <th></th>\n",
       "      <th></th>\n",
       "      <th></th>\n",
       "      <th></th>\n",
       "      <th></th>\n",
       "      <th></th>\n",
       "      <th></th>\n",
       "      <th></th>\n",
       "      <th></th>\n",
       "    </tr>\n",
       "  </thead>\n",
       "  <tbody>\n",
       "    <tr>\n",
       "      <th>1973-01-02</th>\n",
       "      <td>MXM00076680</td>\n",
       "      <td>MEXICO CITY, MX</td>\n",
       "      <td>19.4</td>\n",
       "      <td>-99.183</td>\n",
       "      <td>2303.0</td>\n",
       "      <td>NaN</td>\n",
       "      <td>NaN</td>\n",
       "      <td>NaN</td>\n",
       "      <td>NaN</td>\n",
       "      <td>64.0</td>\n",
       "      <td>H,,S</td>\n",
       "      <td>NaN</td>\n",
       "      <td>NaN</td>\n",
       "      <td>NaN</td>\n",
       "      <td>NaN</td>\n",
       "    </tr>\n",
       "    <tr>\n",
       "      <th>1973-01-11</th>\n",
       "      <td>MXM00076680</td>\n",
       "      <td>MEXICO CITY, MX</td>\n",
       "      <td>19.4</td>\n",
       "      <td>-99.183</td>\n",
       "      <td>2303.0</td>\n",
       "      <td>NaN</td>\n",
       "      <td>NaN</td>\n",
       "      <td>NaN</td>\n",
       "      <td>NaN</td>\n",
       "      <td>67.0</td>\n",
       "      <td>H,,S</td>\n",
       "      <td>NaN</td>\n",
       "      <td>NaN</td>\n",
       "      <td>NaN</td>\n",
       "      <td>NaN</td>\n",
       "    </tr>\n",
       "    <tr>\n",
       "      <th>1973-02-18</th>\n",
       "      <td>MXM00076680</td>\n",
       "      <td>MEXICO CITY, MX</td>\n",
       "      <td>19.4</td>\n",
       "      <td>-99.183</td>\n",
       "      <td>2303.0</td>\n",
       "      <td>NaN</td>\n",
       "      <td>NaN</td>\n",
       "      <td>NaN</td>\n",
       "      <td>NaN</td>\n",
       "      <td>68.0</td>\n",
       "      <td>H,,S</td>\n",
       "      <td>NaN</td>\n",
       "      <td>NaN</td>\n",
       "      <td>NaN</td>\n",
       "      <td>NaN</td>\n",
       "    </tr>\n",
       "    <tr>\n",
       "      <th>1973-02-25</th>\n",
       "      <td>MXM00076680</td>\n",
       "      <td>MEXICO CITY, MX</td>\n",
       "      <td>19.4</td>\n",
       "      <td>-99.183</td>\n",
       "      <td>2303.0</td>\n",
       "      <td>NaN</td>\n",
       "      <td>NaN</td>\n",
       "      <td>NaN</td>\n",
       "      <td>NaN</td>\n",
       "      <td>68.0</td>\n",
       "      <td>H,,S</td>\n",
       "      <td>NaN</td>\n",
       "      <td>NaN</td>\n",
       "      <td>NaN</td>\n",
       "      <td>NaN</td>\n",
       "    </tr>\n",
       "    <tr>\n",
       "      <th>1973-04-10</th>\n",
       "      <td>MXM00076680</td>\n",
       "      <td>MEXICO CITY, MX</td>\n",
       "      <td>19.4</td>\n",
       "      <td>-99.183</td>\n",
       "      <td>2303.0</td>\n",
       "      <td>NaN</td>\n",
       "      <td>NaN</td>\n",
       "      <td>NaN</td>\n",
       "      <td>NaN</td>\n",
       "      <td>62.0</td>\n",
       "      <td>H,,S</td>\n",
       "      <td>NaN</td>\n",
       "      <td>NaN</td>\n",
       "      <td>NaN</td>\n",
       "      <td>NaN</td>\n",
       "    </tr>\n",
       "    <tr>\n",
       "      <th>...</th>\n",
       "      <td>...</td>\n",
       "      <td>...</td>\n",
       "      <td>...</td>\n",
       "      <td>...</td>\n",
       "      <td>...</td>\n",
       "      <td>...</td>\n",
       "      <td>...</td>\n",
       "      <td>...</td>\n",
       "      <td>...</td>\n",
       "      <td>...</td>\n",
       "      <td>...</td>\n",
       "      <td>...</td>\n",
       "      <td>...</td>\n",
       "      <td>...</td>\n",
       "      <td>...</td>\n",
       "    </tr>\n",
       "    <tr>\n",
       "      <th>2010-11-25</th>\n",
       "      <td>MXM00076680</td>\n",
       "      <td>MEXICO CITY, MX</td>\n",
       "      <td>19.4</td>\n",
       "      <td>-99.183</td>\n",
       "      <td>2303.0</td>\n",
       "      <td>0.0</td>\n",
       "      <td>,,S</td>\n",
       "      <td>NaN</td>\n",
       "      <td>NaN</td>\n",
       "      <td>63.0</td>\n",
       "      <td>H,,S</td>\n",
       "      <td>78.0</td>\n",
       "      <td>,,S</td>\n",
       "      <td>48.0</td>\n",
       "      <td>,,S</td>\n",
       "    </tr>\n",
       "    <tr>\n",
       "      <th>2010-11-26</th>\n",
       "      <td>MXM00076680</td>\n",
       "      <td>MEXICO CITY, MX</td>\n",
       "      <td>19.4</td>\n",
       "      <td>-99.183</td>\n",
       "      <td>2303.0</td>\n",
       "      <td>0.0</td>\n",
       "      <td>,,S</td>\n",
       "      <td>NaN</td>\n",
       "      <td>NaN</td>\n",
       "      <td>64.0</td>\n",
       "      <td>H,,S</td>\n",
       "      <td>78.0</td>\n",
       "      <td>,,S</td>\n",
       "      <td>48.0</td>\n",
       "      <td>,,S</td>\n",
       "    </tr>\n",
       "    <tr>\n",
       "      <th>2010-11-27</th>\n",
       "      <td>MXM00076680</td>\n",
       "      <td>MEXICO CITY, MX</td>\n",
       "      <td>19.4</td>\n",
       "      <td>-99.183</td>\n",
       "      <td>2303.0</td>\n",
       "      <td>0.0</td>\n",
       "      <td>,,S</td>\n",
       "      <td>NaN</td>\n",
       "      <td>NaN</td>\n",
       "      <td>59.0</td>\n",
       "      <td>H,,S</td>\n",
       "      <td>76.0</td>\n",
       "      <td>,,S</td>\n",
       "      <td>52.0</td>\n",
       "      <td>,,S</td>\n",
       "    </tr>\n",
       "    <tr>\n",
       "      <th>2010-11-29</th>\n",
       "      <td>MXM00076680</td>\n",
       "      <td>MEXICO CITY, MX</td>\n",
       "      <td>19.4</td>\n",
       "      <td>-99.183</td>\n",
       "      <td>2303.0</td>\n",
       "      <td>0.0</td>\n",
       "      <td>,,S</td>\n",
       "      <td>NaN</td>\n",
       "      <td>NaN</td>\n",
       "      <td>63.0</td>\n",
       "      <td>H,,S</td>\n",
       "      <td>NaN</td>\n",
       "      <td>NaN</td>\n",
       "      <td>NaN</td>\n",
       "      <td>NaN</td>\n",
       "    </tr>\n",
       "    <tr>\n",
       "      <th>2010-11-30</th>\n",
       "      <td>MXM00076680</td>\n",
       "      <td>MEXICO CITY, MX</td>\n",
       "      <td>19.4</td>\n",
       "      <td>-99.183</td>\n",
       "      <td>2303.0</td>\n",
       "      <td>0.0</td>\n",
       "      <td>,,S</td>\n",
       "      <td>NaN</td>\n",
       "      <td>NaN</td>\n",
       "      <td>63.0</td>\n",
       "      <td>H,,S</td>\n",
       "      <td>77.0</td>\n",
       "      <td>,,S</td>\n",
       "      <td>51.0</td>\n",
       "      <td>,,S</td>\n",
       "    </tr>\n",
       "  </tbody>\n",
       "</table>\n",
       "<p>7727 rows × 15 columns</p>\n",
       "</div>"
      ],
      "text/plain": [
       "                STATION             NAME  LATITUDE  LONGITUDE  ELEVATION  \\\n",
       "DATE                                                                       \n",
       "1973-01-02  MXM00076680  MEXICO CITY, MX      19.4    -99.183     2303.0   \n",
       "1973-01-11  MXM00076680  MEXICO CITY, MX      19.4    -99.183     2303.0   \n",
       "1973-02-18  MXM00076680  MEXICO CITY, MX      19.4    -99.183     2303.0   \n",
       "1973-02-25  MXM00076680  MEXICO CITY, MX      19.4    -99.183     2303.0   \n",
       "1973-04-10  MXM00076680  MEXICO CITY, MX      19.4    -99.183     2303.0   \n",
       "...                 ...              ...       ...        ...        ...   \n",
       "2010-11-25  MXM00076680  MEXICO CITY, MX      19.4    -99.183     2303.0   \n",
       "2010-11-26  MXM00076680  MEXICO CITY, MX      19.4    -99.183     2303.0   \n",
       "2010-11-27  MXM00076680  MEXICO CITY, MX      19.4    -99.183     2303.0   \n",
       "2010-11-29  MXM00076680  MEXICO CITY, MX      19.4    -99.183     2303.0   \n",
       "2010-11-30  MXM00076680  MEXICO CITY, MX      19.4    -99.183     2303.0   \n",
       "\n",
       "            PRCP PRCP_ATTRIBUTES  SNWD SNWD_ATTRIBUTES  TAVG TAVG_ATTRIBUTES  \\\n",
       "DATE                                                                           \n",
       "1973-01-02   NaN             NaN   NaN             NaN  64.0            H,,S   \n",
       "1973-01-11   NaN             NaN   NaN             NaN  67.0            H,,S   \n",
       "1973-02-18   NaN             NaN   NaN             NaN  68.0            H,,S   \n",
       "1973-02-25   NaN             NaN   NaN             NaN  68.0            H,,S   \n",
       "1973-04-10   NaN             NaN   NaN             NaN  62.0            H,,S   \n",
       "...          ...             ...   ...             ...   ...             ...   \n",
       "2010-11-25   0.0             ,,S   NaN             NaN  63.0            H,,S   \n",
       "2010-11-26   0.0             ,,S   NaN             NaN  64.0            H,,S   \n",
       "2010-11-27   0.0             ,,S   NaN             NaN  59.0            H,,S   \n",
       "2010-11-29   0.0             ,,S   NaN             NaN  63.0            H,,S   \n",
       "2010-11-30   0.0             ,,S   NaN             NaN  63.0            H,,S   \n",
       "\n",
       "            TMAX TMAX_ATTRIBUTES  TMIN TMIN_ATTRIBUTES  \n",
       "DATE                                                    \n",
       "1973-01-02   NaN             NaN   NaN             NaN  \n",
       "1973-01-11   NaN             NaN   NaN             NaN  \n",
       "1973-02-18   NaN             NaN   NaN             NaN  \n",
       "1973-02-25   NaN             NaN   NaN             NaN  \n",
       "1973-04-10   NaN             NaN   NaN             NaN  \n",
       "...          ...             ...   ...             ...  \n",
       "2010-11-25  78.0             ,,S  48.0             ,,S  \n",
       "2010-11-26  78.0             ,,S  48.0             ,,S  \n",
       "2010-11-27  76.0             ,,S  52.0             ,,S  \n",
       "2010-11-29   NaN             NaN   NaN             NaN  \n",
       "2010-11-30  77.0             ,,S  51.0             ,,S  \n",
       "\n",
       "[7727 rows x 15 columns]"
      ]
     },
     "execution_count": 7,
     "metadata": {},
     "output_type": "execute_result"
    }
   ],
   "source": [
    "weather_CDMX"
   ]
  },
  {
   "cell_type": "code",
   "execution_count": 8,
   "metadata": {},
   "outputs": [],
   "source": [
    "weather_Tuxtla = weather[weather['NAME'] == 'TUXTLA GUTIERREZ DGE, MX']\n"
   ]
  },
  {
   "cell_type": "code",
   "execution_count": 9,
   "metadata": {},
   "outputs": [
    {
     "data": {
      "text/plain": [
       "Text(0.5, 1.0, 'Missing values')"
      ]
     },
     "execution_count": 9,
     "metadata": {},
     "output_type": "execute_result"
    },
    {
     "data": {
      "image/png": "[encoded data removed]",
      "text/plain": [
       "<Figure size 511.25x360 with 1 Axes>"
      ]
     },
     "metadata": {
      "needs_background": "light"
     },
     "output_type": "display_data"
    }
   ],
   "source": [
    "sns.displot(\n",
    "    data = weather_Tuxtla.isna().melt(value_name=\"Missing\"),\n",
    "    y = \"variable\",\n",
    "    hue=\"Missing\",\n",
    "    multiple = \"fill\",\n",
    "    aspect=1.25\n",
    ")\n",
    "plt.ylabel(\"\")\n",
    "plt.xlabel(\"\")\n",
    "plt.title(\"Missing values\")"
   ]
  },
  {
   "cell_type": "code",
   "execution_count": 11,
   "metadata": {},
   "outputs": [],
   "source": [
    "core_weather = weather_Tuxtla[[\"PRCP\", \"TMAX\", \"TMIN\"]].copy()\n",
    "core_weather.columns = [\"precip\", \"temp_max\", \"temp_min\"]"
   ]
  },
  {
   "cell_type": "code",
   "execution_count": 15,
   "metadata": {},
   "outputs": [
    {
     "data": {
      "text/plain": [
       "precip      0.112165\n",
       "temp_max    0.004405\n",
       "temp_min    0.004405\n",
       "dtype: float64"
      ]
     },
     "execution_count": 15,
     "metadata": {},
     "output_type": "execute_result"
    }
   ],
   "source": [
    "core_weather.apply(pd.isnull).sum()/core_weather.shape[0]"
   ]
  },
  {
   "cell_type": "code",
   "execution_count": 12,
   "metadata": {},
   "outputs": [
    {
     "data": {
      "text/plain": [
       "precip      1986\n",
       "temp_max      78\n",
       "temp_min      78\n",
       "dtype: int64"
      ]
     },
     "execution_count": 12,
     "metadata": {},
     "output_type": "execute_result"
    }
   ],
   "source": [
    "core_weather.apply(pd.isnull).sum()"
   ]
  },
  {
   "cell_type": "code",
   "execution_count": 13,
   "metadata": {},
   "outputs": [
    {
     "data": {
      "text/plain": [
       "0.00    0.649102\n",
       "0.01    0.022930\n",
       "0.03    0.012425\n",
       "0.05    0.008698\n",
       "0.02    0.008246\n",
       "          ...   \n",
       "2.17    0.000056\n",
       "2.54    0.000056\n",
       "2.03    0.000056\n",
       "3.04    0.000056\n",
       "2.75    0.000056\n",
       "Name: precip, Length: 273, dtype: float64"
      ]
     },
     "execution_count": 13,
     "metadata": {},
     "output_type": "execute_result"
    }
   ],
   "source": [
    "core_weather[\"precip\"].value_counts() / core_weather.shape[0]"
   ]
  },
  {
   "cell_type": "code",
   "execution_count": 19,
   "metadata": {},
   "outputs": [
    {
     "data": {
      "text/plain": [
       "0.11552226463104326"
      ]
     },
     "execution_count": 19,
     "metadata": {},
     "output_type": "execute_result"
    }
   ],
   "source": [
    "np.mean(core_weather['precip'])"
   ]
  },
  {
   "cell_type": "code",
   "execution_count": 16,
   "metadata": {},
   "outputs": [
    {
     "data": {
      "text/plain": [
       "<AxesSubplot:xlabel='DATE'>"
      ]
     },
     "execution_count": 16,
     "metadata": {},
     "output_type": "execute_result"
    },
    {
     "data": {
      "image/png": "[encoded data removed]",
      "text/plain": [
       "<Figure size 432x288 with 1 Axes>"
      ]
     },
     "metadata": {
      "needs_background": "light"
     },
     "output_type": "display_data"
    }
   ],
   "source": [
    "core_weather['precip'].plot()"
   ]
  },
  {
   "cell_type": "code",
   "execution_count": 20,
   "metadata": {},
   "outputs": [],
   "source": [
    "core_weather['precip'] = core_weather['precip'].fillna(value=np.mean(core_weather['precip']))"
   ]
  },
  {
   "cell_type": "code",
   "execution_count": 21,
   "metadata": {},
   "outputs": [
    {
     "data": {
      "text/plain": [
       "precip      0.000000\n",
       "temp_max    0.004405\n",
       "temp_min    0.004405\n",
       "dtype: float64"
      ]
     },
     "execution_count": 21,
     "metadata": {},
     "output_type": "execute_result"
    }
   ],
   "source": [
    "core_weather.apply(pd.isnull).sum()/core_weather.shape[0]"
   ]
  },
  {
   "cell_type": "code",
   "execution_count": 23,
   "metadata": {},
   "outputs": [],
   "source": [
    "core_weather = core_weather.fillna(method=\"ffill\")"
   ]
  },
  {
   "cell_type": "code",
   "execution_count": 25,
   "metadata": {},
   "outputs": [
    {
     "data": {
      "text/plain": [
       "Text(0.5, 1.0, 'Missing values')"
      ]
     },
     "execution_count": 25,
     "metadata": {},
     "output_type": "execute_result"
    },
    {
     "data": {
      "image/png": "[encoded data removed]",
      "text/plain": [
       "<Figure size 511.25x360 with 1 Axes>"
      ]
     },
     "metadata": {
      "needs_background": "light"
     },
     "output_type": "display_data"
    }
   ],
   "source": [
    "sns.displot(\n",
    "    data = core_weather.isna().melt(value_name=\"Missing\"),\n",
    "    y = \"variable\",\n",
    "    hue=\"Missing\",\n",
    "    multiple = \"fill\",\n",
    "    aspect=1.25\n",
    ")\n",
    "plt.ylabel(\"\")\n",
    "plt.xlabel(\"\")\n",
    "plt.title(\"Missing values\")"
   ]
  },
  {
   "cell_type": "code",
   "execution_count": 26,
   "metadata": {},
   "outputs": [
    {
     "data": {
      "text/plain": [
       "precip      float64\n",
       "temp_max    float64\n",
       "temp_min    float64\n",
       "dtype: object"
      ]
     },
     "execution_count": 26,
     "metadata": {},
     "output_type": "execute_result"
    }
   ],
   "source": [
    "core_weather.dtypes"
   ]
  },
  {
   "cell_type": "code",
   "execution_count": 27,
   "metadata": {},
   "outputs": [
    {
     "data": {
      "text/plain": [
       "Index(['1960-01-01', '1960-01-02', '1960-01-03', '1960-01-04', '1960-01-05',\n",
       "       '1960-01-06', '1960-01-07', '1960-01-08', '1960-01-09', '1960-01-10',\n",
       "       ...\n",
       "       '2010-11-21', '2010-11-22', '2010-11-23', '2010-11-24', '2010-11-25',\n",
       "       '2010-11-26', '2010-11-27', '2010-11-28', '2010-11-29', '2010-11-30'],\n",
       "      dtype='object', name='DATE', length=17706)"
      ]
     },
     "execution_count": 27,
     "metadata": {},
     "output_type": "execute_result"
    }
   ],
   "source": [
    "core_weather.index"
   ]
  },
  {
   "cell_type": "code",
   "execution_count": 28,
   "metadata": {},
   "outputs": [],
   "source": [
    "core_weather.index = pd.to_datetime(core_weather.index)"
   ]
  },
  {
   "cell_type": "code",
   "execution_count": 29,
   "metadata": {},
   "outputs": [
    {
     "data": {
      "text/plain": [
       "<AxesSubplot:xlabel='DATE'>"
      ]
     },
     "execution_count": 29,
     "metadata": {},
     "output_type": "execute_result"
    },
    {
     "data": {
      "image/png": "[encoded data removed]",
      "text/plain": [
       "<Figure size 432x288 with 1 Axes>"
      ]
     },
     "metadata": {
      "needs_background": "light"
     },
     "output_type": "display_data"
    }
   ],
   "source": [
    "core_weather[[\"temp_max\", \"temp_min\"]].plot()"
   ]
  },
  {
   "cell_type": "code",
   "execution_count": 30,
   "metadata": {},
   "outputs": [
    {
     "data": {
      "text/plain": [
       "1960    366\n",
       "1961    365\n",
       "1962    365\n",
       "1963    365\n",
       "1964    366\n",
       "1965    365\n",
       "1966    365\n",
       "1967    365\n",
       "1968    366\n",
       "1969    365\n",
       "1970    365\n",
       "1971    365\n",
       "1972    366\n",
       "1973    365\n",
       "1974    365\n",
       "1975    365\n",
       "1976    366\n",
       "1977    365\n",
       "1978    365\n",
       "1979    365\n",
       "1980    366\n",
       "1981    359\n",
       "1982    365\n",
       "1983    365\n",
       "1984    366\n",
       "1985    365\n",
       "1986    365\n",
       "1987    365\n",
       "1988    366\n",
       "1989    365\n",
       "1990    365\n",
       "1991    365\n",
       "1992    366\n",
       "1993    365\n",
       "1994    365\n",
       "1995    365\n",
       "1996    365\n",
       "1997    365\n",
       "1998    365\n",
       "1999    365\n",
       "2000    366\n",
       "2001    304\n",
       "2002    365\n",
       "2003    273\n",
       "2006    365\n",
       "2007    365\n",
       "2008    366\n",
       "2009    365\n",
       "2010    334\n",
       "Name: DATE, dtype: int64"
      ]
     },
     "execution_count": 30,
     "metadata": {},
     "output_type": "execute_result"
    }
   ],
   "source": [
    "core_weather.index.year.value_counts().sort_index()"
   ]
  },
  {
   "cell_type": "code",
   "execution_count": 31,
   "metadata": {},
   "outputs": [
    {
     "data": {
      "text/plain": [
       "<AxesSubplot:xlabel='DATE'>"
      ]
     },
     "execution_count": 31,
     "metadata": {},
     "output_type": "execute_result"
    },
    {
     "data": {
      "image/png": "[encoded data removed]",
      "text/plain": [
       "<Figure size 432x288 with 1 Axes>"
      ]
     },
     "metadata": {
      "needs_background": "light"
     },
     "output_type": "display_data"
    }
   ],
   "source": [
    "core_weather.groupby(core_weather.index.year).apply(lambda x: x[\"precip\"].sum()).plot()"
   ]
  },
  {
   "cell_type": "code",
   "execution_count": 32,
   "metadata": {},
   "outputs": [],
   "source": [
    "core_weather[\"target\"] = core_weather.shift(-1)[\"temp_max\"]"
   ]
  },
  {
   "cell_type": "code",
   "execution_count": 33,
   "metadata": {},
   "outputs": [
    {
     "data": {
      "text/html": [
       "<div>\n",
       "<style scoped>\n",
       "    .dataframe tbody tr th:only-of-type {\n",
       "        vertical-align: middle;\n",
       "    }\n",
       "\n",
       "    .dataframe tbody tr th {\n",
       "        vertical-align: top;\n",
       "    }\n",
       "\n",
       "    .dataframe thead th {\n",
       "        text-align: right;\n",
       "    }\n",
       "</style>\n",
       "<table border=\"1\" class=\"dataframe\">\n",
       "  <thead>\n",
       "    <tr style=\"text-align: right;\">\n",
       "      <th></th>\n",
       "      <th>precip</th>\n",
       "      <th>temp_max</th>\n",
       "      <th>temp_min</th>\n",
       "      <th>target</th>\n",
       "    </tr>\n",
       "    <tr>\n",
       "      <th>DATE</th>\n",
       "      <th></th>\n",
       "      <th></th>\n",
       "      <th></th>\n",
       "      <th></th>\n",
       "    </tr>\n",
       "  </thead>\n",
       "  <tbody>\n",
       "    <tr>\n",
       "      <th>1960-01-01</th>\n",
       "      <td>0.00</td>\n",
       "      <td>91.0</td>\n",
       "      <td>54.0</td>\n",
       "      <td>89.0</td>\n",
       "    </tr>\n",
       "    <tr>\n",
       "      <th>1960-01-02</th>\n",
       "      <td>0.00</td>\n",
       "      <td>89.0</td>\n",
       "      <td>54.0</td>\n",
       "      <td>83.0</td>\n",
       "    </tr>\n",
       "    <tr>\n",
       "      <th>1960-01-03</th>\n",
       "      <td>0.00</td>\n",
       "      <td>83.0</td>\n",
       "      <td>54.0</td>\n",
       "      <td>90.0</td>\n",
       "    </tr>\n",
       "    <tr>\n",
       "      <th>1960-01-04</th>\n",
       "      <td>0.00</td>\n",
       "      <td>90.0</td>\n",
       "      <td>59.0</td>\n",
       "      <td>88.0</td>\n",
       "    </tr>\n",
       "    <tr>\n",
       "      <th>1960-01-05</th>\n",
       "      <td>0.00</td>\n",
       "      <td>88.0</td>\n",
       "      <td>58.0</td>\n",
       "      <td>90.0</td>\n",
       "    </tr>\n",
       "    <tr>\n",
       "      <th>...</th>\n",
       "      <td>...</td>\n",
       "      <td>...</td>\n",
       "      <td>...</td>\n",
       "      <td>...</td>\n",
       "    </tr>\n",
       "    <tr>\n",
       "      <th>2010-11-26</th>\n",
       "      <td>0.00</td>\n",
       "      <td>62.0</td>\n",
       "      <td>50.0</td>\n",
       "      <td>64.0</td>\n",
       "    </tr>\n",
       "    <tr>\n",
       "      <th>2010-11-27</th>\n",
       "      <td>0.00</td>\n",
       "      <td>64.0</td>\n",
       "      <td>47.0</td>\n",
       "      <td>69.0</td>\n",
       "    </tr>\n",
       "    <tr>\n",
       "      <th>2010-11-28</th>\n",
       "      <td>0.00</td>\n",
       "      <td>69.0</td>\n",
       "      <td>50.0</td>\n",
       "      <td>78.0</td>\n",
       "    </tr>\n",
       "    <tr>\n",
       "      <th>2010-11-29</th>\n",
       "      <td>0.00</td>\n",
       "      <td>78.0</td>\n",
       "      <td>50.0</td>\n",
       "      <td>75.0</td>\n",
       "    </tr>\n",
       "    <tr>\n",
       "      <th>2010-11-30</th>\n",
       "      <td>2.75</td>\n",
       "      <td>75.0</td>\n",
       "      <td>55.0</td>\n",
       "      <td>NaN</td>\n",
       "    </tr>\n",
       "  </tbody>\n",
       "</table>\n",
       "<p>17706 rows × 4 columns</p>\n",
       "</div>"
      ],
      "text/plain": [
       "            precip  temp_max  temp_min  target\n",
       "DATE                                          \n",
       "1960-01-01    0.00      91.0      54.0    89.0\n",
       "1960-01-02    0.00      89.0      54.0    83.0\n",
       "1960-01-03    0.00      83.0      54.0    90.0\n",
       "1960-01-04    0.00      90.0      59.0    88.0\n",
       "1960-01-05    0.00      88.0      58.0    90.0\n",
       "...            ...       ...       ...     ...\n",
       "2010-11-26    0.00      62.0      50.0    64.0\n",
       "2010-11-27    0.00      64.0      47.0    69.0\n",
       "2010-11-28    0.00      69.0      50.0    78.0\n",
       "2010-11-29    0.00      78.0      50.0    75.0\n",
       "2010-11-30    2.75      75.0      55.0     NaN\n",
       "\n",
       "[17706 rows x 4 columns]"
      ]
     },
     "execution_count": 33,
     "metadata": {},
     "output_type": "execute_result"
    }
   ],
   "source": [
    "core_weather"
   ]
  },
  {
   "cell_type": "code",
   "execution_count": 34,
   "metadata": {},
   "outputs": [],
   "source": [
    "core_weather = core_weather.iloc[:-1,:].copy()"
   ]
  },
  {
   "cell_type": "code",
   "execution_count": 35,
   "metadata": {},
   "outputs": [
    {
     "data": {
      "text/html": [
       "<div>\n",
       "<style scoped>\n",
       "    .dataframe tbody tr th:only-of-type {\n",
       "        vertical-align: middle;\n",
       "    }\n",
       "\n",
       "    .dataframe tbody tr th {\n",
       "        vertical-align: top;\n",
       "    }\n",
       "\n",
       "    .dataframe thead th {\n",
       "        text-align: right;\n",
       "    }\n",
       "</style>\n",
       "<table border=\"1\" class=\"dataframe\">\n",
       "  <thead>\n",
       "    <tr style=\"text-align: right;\">\n",
       "      <th></th>\n",
       "      <th>precip</th>\n",
       "      <th>temp_max</th>\n",
       "      <th>temp_min</th>\n",
       "      <th>target</th>\n",
       "    </tr>\n",
       "    <tr>\n",
       "      <th>DATE</th>\n",
       "      <th></th>\n",
       "      <th></th>\n",
       "      <th></th>\n",
       "      <th></th>\n",
       "    </tr>\n",
       "  </thead>\n",
       "  <tbody>\n",
       "    <tr>\n",
       "      <th>1960-01-01</th>\n",
       "      <td>0.0</td>\n",
       "      <td>91.0</td>\n",
       "      <td>54.0</td>\n",
       "      <td>89.0</td>\n",
       "    </tr>\n",
       "    <tr>\n",
       "      <th>1960-01-02</th>\n",
       "      <td>0.0</td>\n",
       "      <td>89.0</td>\n",
       "      <td>54.0</td>\n",
       "      <td>83.0</td>\n",
       "    </tr>\n",
       "    <tr>\n",
       "      <th>1960-01-03</th>\n",
       "      <td>0.0</td>\n",
       "      <td>83.0</td>\n",
       "      <td>54.0</td>\n",
       "      <td>90.0</td>\n",
       "    </tr>\n",
       "    <tr>\n",
       "      <th>1960-01-04</th>\n",
       "      <td>0.0</td>\n",
       "      <td>90.0</td>\n",
       "      <td>59.0</td>\n",
       "      <td>88.0</td>\n",
       "    </tr>\n",
       "    <tr>\n",
       "      <th>1960-01-05</th>\n",
       "      <td>0.0</td>\n",
       "      <td>88.0</td>\n",
       "      <td>58.0</td>\n",
       "      <td>90.0</td>\n",
       "    </tr>\n",
       "    <tr>\n",
       "      <th>...</th>\n",
       "      <td>...</td>\n",
       "      <td>...</td>\n",
       "      <td>...</td>\n",
       "      <td>...</td>\n",
       "    </tr>\n",
       "    <tr>\n",
       "      <th>2010-11-25</th>\n",
       "      <td>0.0</td>\n",
       "      <td>66.0</td>\n",
       "      <td>51.0</td>\n",
       "      <td>62.0</td>\n",
       "    </tr>\n",
       "    <tr>\n",
       "      <th>2010-11-26</th>\n",
       "      <td>0.0</td>\n",
       "      <td>62.0</td>\n",
       "      <td>50.0</td>\n",
       "      <td>64.0</td>\n",
       "    </tr>\n",
       "    <tr>\n",
       "      <th>2010-11-27</th>\n",
       "      <td>0.0</td>\n",
       "      <td>64.0</td>\n",
       "      <td>47.0</td>\n",
       "      <td>69.0</td>\n",
       "    </tr>\n",
       "    <tr>\n",
       "      <th>2010-11-28</th>\n",
       "      <td>0.0</td>\n",
       "      <td>69.0</td>\n",
       "      <td>50.0</td>\n",
       "      <td>78.0</td>\n",
       "    </tr>\n",
       "    <tr>\n",
       "      <th>2010-11-29</th>\n",
       "      <td>0.0</td>\n",
       "      <td>78.0</td>\n",
       "      <td>50.0</td>\n",
       "      <td>75.0</td>\n",
       "    </tr>\n",
       "  </tbody>\n",
       "</table>\n",
       "<p>17705 rows × 4 columns</p>\n",
       "</div>"
      ],
      "text/plain": [
       "            precip  temp_max  temp_min  target\n",
       "DATE                                          \n",
       "1960-01-01     0.0      91.0      54.0    89.0\n",
       "1960-01-02     0.0      89.0      54.0    83.0\n",
       "1960-01-03     0.0      83.0      54.0    90.0\n",
       "1960-01-04     0.0      90.0      59.0    88.0\n",
       "1960-01-05     0.0      88.0      58.0    90.0\n",
       "...            ...       ...       ...     ...\n",
       "2010-11-25     0.0      66.0      51.0    62.0\n",
       "2010-11-26     0.0      62.0      50.0    64.0\n",
       "2010-11-27     0.0      64.0      47.0    69.0\n",
       "2010-11-28     0.0      69.0      50.0    78.0\n",
       "2010-11-29     0.0      78.0      50.0    75.0\n",
       "\n",
       "[17705 rows x 4 columns]"
      ]
     },
     "execution_count": 35,
     "metadata": {},
     "output_type": "execute_result"
    }
   ],
   "source": [
    "core_weather"
   ]
  },
  {
   "cell_type": "code",
   "execution_count": 36,
   "metadata": {},
   "outputs": [],
   "source": [
    "from sklearn.linear_model import Ridge\n",
    "\n",
    "reg = Ridge(alpha=.1)"
   ]
  },
  {
   "cell_type": "code",
   "execution_count": 37,
   "metadata": {},
   "outputs": [],
   "source": [
    "predictors = [\"precip\", \"temp_max\", \"temp_min\"]"
   ]
  },
  {
   "cell_type": "code",
   "execution_count": 75,
   "metadata": {},
   "outputs": [],
   "source": [
    "train = core_weather.loc[:\"2009-12-31\"]\n",
    "test = core_weather.loc[\"2010-01-01\":]"
   ]
  },
  {
   "cell_type": "code",
   "execution_count": 67,
   "metadata": {},
   "outputs": [
    {
     "data": {
      "text/html": [
       "<div>\n",
       "<style scoped>\n",
       "    .dataframe tbody tr th:only-of-type {\n",
       "        vertical-align: middle;\n",
       "    }\n",
       "\n",
       "    .dataframe tbody tr th {\n",
       "        vertical-align: top;\n",
       "    }\n",
       "\n",
       "    .dataframe thead th {\n",
       "        text-align: right;\n",
       "    }\n",
       "</style>\n",
       "<table border=\"1\" class=\"dataframe\">\n",
       "  <thead>\n",
       "    <tr style=\"text-align: right;\">\n",
       "      <th></th>\n",
       "      <th>precip</th>\n",
       "      <th>temp_max</th>\n",
       "      <th>temp_min</th>\n",
       "      <th>target</th>\n",
       "    </tr>\n",
       "    <tr>\n",
       "      <th>DATE</th>\n",
       "      <th></th>\n",
       "      <th></th>\n",
       "      <th></th>\n",
       "      <th></th>\n",
       "    </tr>\n",
       "  </thead>\n",
       "  <tbody>\n",
       "    <tr>\n",
       "      <th>1960-01-01</th>\n",
       "      <td>0.0</td>\n",
       "      <td>91.0</td>\n",
       "      <td>54.0</td>\n",
       "      <td>89.0</td>\n",
       "    </tr>\n",
       "    <tr>\n",
       "      <th>1960-01-02</th>\n",
       "      <td>0.0</td>\n",
       "      <td>89.0</td>\n",
       "      <td>54.0</td>\n",
       "      <td>83.0</td>\n",
       "    </tr>\n",
       "    <tr>\n",
       "      <th>1960-01-03</th>\n",
       "      <td>0.0</td>\n",
       "      <td>83.0</td>\n",
       "      <td>54.0</td>\n",
       "      <td>90.0</td>\n",
       "    </tr>\n",
       "    <tr>\n",
       "      <th>1960-01-04</th>\n",
       "      <td>0.0</td>\n",
       "      <td>90.0</td>\n",
       "      <td>59.0</td>\n",
       "      <td>88.0</td>\n",
       "    </tr>\n",
       "    <tr>\n",
       "      <th>1960-01-05</th>\n",
       "      <td>0.0</td>\n",
       "      <td>88.0</td>\n",
       "      <td>58.0</td>\n",
       "      <td>90.0</td>\n",
       "    </tr>\n",
       "    <tr>\n",
       "      <th>...</th>\n",
       "      <td>...</td>\n",
       "      <td>...</td>\n",
       "      <td>...</td>\n",
       "      <td>...</td>\n",
       "    </tr>\n",
       "    <tr>\n",
       "      <th>2009-12-27</th>\n",
       "      <td>0.0</td>\n",
       "      <td>85.0</td>\n",
       "      <td>58.0</td>\n",
       "      <td>85.0</td>\n",
       "    </tr>\n",
       "    <tr>\n",
       "      <th>2009-12-28</th>\n",
       "      <td>0.0</td>\n",
       "      <td>85.0</td>\n",
       "      <td>58.0</td>\n",
       "      <td>81.0</td>\n",
       "    </tr>\n",
       "    <tr>\n",
       "      <th>2009-12-29</th>\n",
       "      <td>0.0</td>\n",
       "      <td>81.0</td>\n",
       "      <td>67.0</td>\n",
       "      <td>85.0</td>\n",
       "    </tr>\n",
       "    <tr>\n",
       "      <th>2009-12-30</th>\n",
       "      <td>0.0</td>\n",
       "      <td>85.0</td>\n",
       "      <td>64.0</td>\n",
       "      <td>89.0</td>\n",
       "    </tr>\n",
       "    <tr>\n",
       "      <th>2009-12-31</th>\n",
       "      <td>0.0</td>\n",
       "      <td>89.0</td>\n",
       "      <td>66.0</td>\n",
       "      <td>83.0</td>\n",
       "    </tr>\n",
       "  </tbody>\n",
       "</table>\n",
       "<p>17372 rows × 4 columns</p>\n",
       "</div>"
      ],
      "text/plain": [
       "            precip  temp_max  temp_min  target\n",
       "DATE                                          \n",
       "1960-01-01     0.0      91.0      54.0    89.0\n",
       "1960-01-02     0.0      89.0      54.0    83.0\n",
       "1960-01-03     0.0      83.0      54.0    90.0\n",
       "1960-01-04     0.0      90.0      59.0    88.0\n",
       "1960-01-05     0.0      88.0      58.0    90.0\n",
       "...            ...       ...       ...     ...\n",
       "2009-12-27     0.0      85.0      58.0    85.0\n",
       "2009-12-28     0.0      85.0      58.0    81.0\n",
       "2009-12-29     0.0      81.0      67.0    85.0\n",
       "2009-12-30     0.0      85.0      64.0    89.0\n",
       "2009-12-31     0.0      89.0      66.0    83.0\n",
       "\n",
       "[17372 rows x 4 columns]"
      ]
     },
     "execution_count": 67,
     "metadata": {},
     "output_type": "execute_result"
    }
   ],
   "source": [
    "train"
   ]
  },
  {
   "cell_type": "code",
   "execution_count": 68,
   "metadata": {},
   "outputs": [
    {
     "data": {
      "text/html": [
       "<div>\n",
       "<style scoped>\n",
       "    .dataframe tbody tr th:only-of-type {\n",
       "        vertical-align: middle;\n",
       "    }\n",
       "\n",
       "    .dataframe tbody tr th {\n",
       "        vertical-align: top;\n",
       "    }\n",
       "\n",
       "    .dataframe thead th {\n",
       "        text-align: right;\n",
       "    }\n",
       "</style>\n",
       "<table border=\"1\" class=\"dataframe\">\n",
       "  <thead>\n",
       "    <tr style=\"text-align: right;\">\n",
       "      <th></th>\n",
       "      <th>precip</th>\n",
       "      <th>temp_max</th>\n",
       "      <th>temp_min</th>\n",
       "      <th>target</th>\n",
       "    </tr>\n",
       "    <tr>\n",
       "      <th>DATE</th>\n",
       "      <th></th>\n",
       "      <th></th>\n",
       "      <th></th>\n",
       "      <th></th>\n",
       "    </tr>\n",
       "  </thead>\n",
       "  <tbody>\n",
       "    <tr>\n",
       "      <th>2010-01-01</th>\n",
       "      <td>0.02</td>\n",
       "      <td>83.0</td>\n",
       "      <td>69.0</td>\n",
       "      <td>83.0</td>\n",
       "    </tr>\n",
       "    <tr>\n",
       "      <th>2010-01-02</th>\n",
       "      <td>0.00</td>\n",
       "      <td>83.0</td>\n",
       "      <td>69.0</td>\n",
       "      <td>81.0</td>\n",
       "    </tr>\n",
       "    <tr>\n",
       "      <th>2010-01-03</th>\n",
       "      <td>0.00</td>\n",
       "      <td>81.0</td>\n",
       "      <td>62.0</td>\n",
       "      <td>81.0</td>\n",
       "    </tr>\n",
       "    <tr>\n",
       "      <th>2010-01-04</th>\n",
       "      <td>0.00</td>\n",
       "      <td>81.0</td>\n",
       "      <td>62.0</td>\n",
       "      <td>74.0</td>\n",
       "    </tr>\n",
       "    <tr>\n",
       "      <th>2010-01-05</th>\n",
       "      <td>0.00</td>\n",
       "      <td>74.0</td>\n",
       "      <td>61.0</td>\n",
       "      <td>78.0</td>\n",
       "    </tr>\n",
       "    <tr>\n",
       "      <th>...</th>\n",
       "      <td>...</td>\n",
       "      <td>...</td>\n",
       "      <td>...</td>\n",
       "      <td>...</td>\n",
       "    </tr>\n",
       "    <tr>\n",
       "      <th>2010-11-25</th>\n",
       "      <td>0.00</td>\n",
       "      <td>66.0</td>\n",
       "      <td>51.0</td>\n",
       "      <td>62.0</td>\n",
       "    </tr>\n",
       "    <tr>\n",
       "      <th>2010-11-26</th>\n",
       "      <td>0.00</td>\n",
       "      <td>62.0</td>\n",
       "      <td>50.0</td>\n",
       "      <td>64.0</td>\n",
       "    </tr>\n",
       "    <tr>\n",
       "      <th>2010-11-27</th>\n",
       "      <td>0.00</td>\n",
       "      <td>64.0</td>\n",
       "      <td>47.0</td>\n",
       "      <td>69.0</td>\n",
       "    </tr>\n",
       "    <tr>\n",
       "      <th>2010-11-28</th>\n",
       "      <td>0.00</td>\n",
       "      <td>69.0</td>\n",
       "      <td>50.0</td>\n",
       "      <td>78.0</td>\n",
       "    </tr>\n",
       "    <tr>\n",
       "      <th>2010-11-29</th>\n",
       "      <td>0.00</td>\n",
       "      <td>78.0</td>\n",
       "      <td>50.0</td>\n",
       "      <td>75.0</td>\n",
       "    </tr>\n",
       "  </tbody>\n",
       "</table>\n",
       "<p>333 rows × 4 columns</p>\n",
       "</div>"
      ],
      "text/plain": [
       "            precip  temp_max  temp_min  target\n",
       "DATE                                          \n",
       "2010-01-01    0.02      83.0      69.0    83.0\n",
       "2010-01-02    0.00      83.0      69.0    81.0\n",
       "2010-01-03    0.00      81.0      62.0    81.0\n",
       "2010-01-04    0.00      81.0      62.0    74.0\n",
       "2010-01-05    0.00      74.0      61.0    78.0\n",
       "...            ...       ...       ...     ...\n",
       "2010-11-25    0.00      66.0      51.0    62.0\n",
       "2010-11-26    0.00      62.0      50.0    64.0\n",
       "2010-11-27    0.00      64.0      47.0    69.0\n",
       "2010-11-28    0.00      69.0      50.0    78.0\n",
       "2010-11-29    0.00      78.0      50.0    75.0\n",
       "\n",
       "[333 rows x 4 columns]"
      ]
     },
     "execution_count": 68,
     "metadata": {},
     "output_type": "execute_result"
    }
   ],
   "source": [
    "test"
   ]
  },
  {
   "cell_type": "code",
   "execution_count": 69,
   "metadata": {},
   "outputs": [
    {
     "data": {
      "text/plain": [
       "Ridge(alpha=0.1)"
      ]
     },
     "execution_count": 69,
     "metadata": {},
     "output_type": "execute_result"
    }
   ],
   "source": [
    "reg.fit(train[predictors], train[\"target\"])"
   ]
  },
  {
   "cell_type": "code",
   "execution_count": 70,
   "metadata": {},
   "outputs": [],
   "source": [
    "predictions = reg.predict(test[predictors])"
   ]
  },
  {
   "cell_type": "code",
   "execution_count": 74,
   "metadata": {},
   "outputs": [
    {
     "data": {
      "text/plain": [
       "30.11791343612712"
      ]
     },
     "execution_count": 74,
     "metadata": {},
     "output_type": "execute_result"
    }
   ],
   "source": [
    "from sklearn.metrics import mean_squared_error\n",
    "mean_squared_error(test[\"target\"], predictions)"
   ]
  },
  {
   "cell_type": "code",
   "execution_count": 72,
   "metadata": {},
   "outputs": [],
   "source": [
    "combined = pd.concat([test[\"target\"], pd.Series(predictions, index=test.index)], axis=1)\n",
    "combined.columns = [\"actual\", \"predictions\"]"
   ]
  },
  {
   "cell_type": "code",
   "execution_count": 73,
   "metadata": {},
   "outputs": [
    {
     "data": {
      "text/html": [
       "<div>\n",
       "<style scoped>\n",
       "    .dataframe tbody tr th:only-of-type {\n",
       "        vertical-align: middle;\n",
       "    }\n",
       "\n",
       "    .dataframe tbody tr th {\n",
       "        vertical-align: top;\n",
       "    }\n",
       "\n",
       "    .dataframe thead th {\n",
       "        text-align: right;\n",
       "    }\n",
       "</style>\n",
       "<table border=\"1\" class=\"dataframe\">\n",
       "  <thead>\n",
       "    <tr style=\"text-align: right;\">\n",
       "      <th></th>\n",
       "      <th>actual</th>\n",
       "      <th>predictions</th>\n",
       "    </tr>\n",
       "    <tr>\n",
       "      <th>DATE</th>\n",
       "      <th></th>\n",
       "      <th></th>\n",
       "    </tr>\n",
       "  </thead>\n",
       "  <tbody>\n",
       "    <tr>\n",
       "      <th>2010-01-01</th>\n",
       "      <td>83.0</td>\n",
       "      <td>85.550575</td>\n",
       "    </tr>\n",
       "    <tr>\n",
       "      <th>2010-01-02</th>\n",
       "      <td>81.0</td>\n",
       "      <td>85.578681</td>\n",
       "    </tr>\n",
       "    <tr>\n",
       "      <th>2010-01-03</th>\n",
       "      <td>81.0</td>\n",
       "      <td>83.526953</td>\n",
       "    </tr>\n",
       "    <tr>\n",
       "      <th>2010-01-04</th>\n",
       "      <td>74.0</td>\n",
       "      <td>83.526953</td>\n",
       "    </tr>\n",
       "    <tr>\n",
       "      <th>2010-01-05</th>\n",
       "      <td>78.0</td>\n",
       "      <td>78.620800</td>\n",
       "    </tr>\n",
       "    <tr>\n",
       "      <th>...</th>\n",
       "      <td>...</td>\n",
       "      <td>...</td>\n",
       "    </tr>\n",
       "    <tr>\n",
       "      <th>2010-11-25</th>\n",
       "      <td>62.0</td>\n",
       "      <td>72.156360</td>\n",
       "    </tr>\n",
       "    <tr>\n",
       "      <th>2010-11-26</th>\n",
       "      <td>64.0</td>\n",
       "      <td>69.311357</td>\n",
       "    </tr>\n",
       "    <tr>\n",
       "      <th>2010-11-27</th>\n",
       "      <td>69.0</td>\n",
       "      <td>70.395045</td>\n",
       "    </tr>\n",
       "    <tr>\n",
       "      <th>2010-11-28</th>\n",
       "      <td>78.0</td>\n",
       "      <td>74.120706</td>\n",
       "    </tr>\n",
       "    <tr>\n",
       "      <th>2010-11-29</th>\n",
       "      <td>75.0</td>\n",
       "      <td>80.304155</td>\n",
       "    </tr>\n",
       "  </tbody>\n",
       "</table>\n",
       "<p>333 rows × 2 columns</p>\n",
       "</div>"
      ],
      "text/plain": [
       "            actual  predictions\n",
       "DATE                           \n",
       "2010-01-01    83.0    85.550575\n",
       "2010-01-02    81.0    85.578681\n",
       "2010-01-03    81.0    83.526953\n",
       "2010-01-04    74.0    83.526953\n",
       "2010-01-05    78.0    78.620800\n",
       "...            ...          ...\n",
       "2010-11-25    62.0    72.156360\n",
       "2010-11-26    64.0    69.311357\n",
       "2010-11-27    69.0    70.395045\n",
       "2010-11-28    78.0    74.120706\n",
       "2010-11-29    75.0    80.304155\n",
       "\n",
       "[333 rows x 2 columns]"
      ]
     },
     "execution_count": 73,
     "metadata": {},
     "output_type": "execute_result"
    }
   ],
   "source": [
    "combined"
   ]
  },
  {
   "cell_type": "code",
   "execution_count": 65,
   "metadata": {},
   "outputs": [
    {
     "data": {
      "text/plain": [
       "<AxesSubplot:xlabel='DATE'>"
      ]
     },
     "execution_count": 65,
     "metadata": {},
     "output_type": "execute_result"
    },
    {
     "data": {
      "image/png": "[encoded data removed]",
      "text/plain": [
       "<Figure size 432x288 with 1 Axes>"
      ]
     },
     "metadata": {
      "needs_background": "light"
     },
     "output_type": "display_data"
    }
   ],
   "source": []
  }
 ],
 "metadata": {
  "interpreter": {
   "hash": "894d46e0c3701b09b304845616700b6b5de00e6aa5805b99e44cef9ca6e864d2"
  },
  "kernelspec": {
   "display_name": "Python 3.9.7 ('venv': venv)",
   "language": "python",
   "name": "python3"
  },
  "language_info": {
   "codemirror_mode": {
    "name": "ipython",
    "version": 3
   },
   "file_extension": ".py",
   "mimetype": "text/x-python",
   "name": "python",
   "nbconvert_exporter": "python",
   "pygments_lexer": "ipython3",
   "version": "3.9.7"
  },
  "orig_nbformat": 4
 },
 "nbformat": 4,
 "nbformat_minor": 2
}
